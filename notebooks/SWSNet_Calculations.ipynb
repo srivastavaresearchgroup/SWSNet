{
 "cells": [
  {
   "cell_type": "code",
   "execution_count": null,
   "id": "a865516a",
   "metadata": {},
   "outputs": [],
   "source": [
    "import sys\n",
    "sys.path.append(\"path/to/SWSNet/repo\")"
   ]
  },
  {
   "cell_type": "code",
   "execution_count": null,
   "id": "0d2f9275",
   "metadata": {},
   "outputs": [],
   "source": [
    "from deconvolution import deconvolve\n",
    "import matplotlib.pyplot as plt\n",
    "import numpy as np\n",
    "from math import pi, sin, cos"
   ]
  },
  {
   "cell_type": "code",
   "execution_count": null,
   "id": "2b9e9a7b",
   "metadata": {},
   "outputs": [],
   "source": [
    "def demean(arr):\n",
    "    return arr - np.mean(arr)"
   ]
  },
  {
   "cell_type": "markdown",
   "id": "baaaeb97",
   "metadata": {},
   "source": [
    "This is an example code for loading the data. Your data can be saved in any format. Just remember that the radial and transverse components must be in the form of numpy arrays and length of data should not be higher than 40 seconds."
   ]
  },
  {
   "cell_type": "code",
   "execution_count": null,
   "id": "50dfaf79",
   "metadata": {},
   "outputs": [],
   "source": [
    "import h5py\n",
    "\n",
    "hf = h5py.File('data.h5', 'r')\n",
    "radial = np.array(hf['radial'])\n",
    "transverse = np.array(hf['transverse'])\n",
    "duration = np.array(hf['duration'])\n",
    "BAZ = np.array(hf['BAZ'])"
   ]
  },
  {
   "cell_type": "code",
   "execution_count": null,
   "id": "f0ac0f8b",
   "metadata": {},
   "outputs": [],
   "source": [
    "import keras\n",
    "model = keras.models.load_model(\"../models/SWSNet.h5\", compile=False)"
   ]
  },
  {
   "cell_type": "code",
   "execution_count": null,
   "id": "8fe67ba6",
   "metadata": {
    "scrolled": true
   },
   "outputs": [],
   "source": [
    "from scipy.signal import resample\n",
    "from tqdm import tqdm\n",
    "\n",
    "deconvolved = []\n",
    "\n",
    "pbar = tqdm(total = len(radial))\n",
    "for ex in range(len(radial)):\n",
    "    pbar.update()\n",
    "\n",
    "    ## resampling the radial and transverse components to make sure it is sampled at 50 Hz; duration is in seconds\n",
    "    rad = resample(radial[ex], int(duration[ex]) * 50)\n",
    "    tran = resample(transverse[ex], int(duration[ex]) * 50)\n",
    "    \n",
    "    ## performing deconvolution after removing mean from the data\n",
    "    decon = deconvolve(demean(rad), demean(tran))\n",
    "    deconvolved.append(decon[1])"
   ]
  },
  {
   "cell_type": "code",
   "execution_count": null,
   "id": "de4f1d65",
   "metadata": {},
   "outputs": [],
   "source": [
    "pred = model.predict(np.array(deconvolved))"
   ]
  },
  {
   "cell_type": "code",
   "execution_count": null,
   "id": "d7334a50",
   "metadata": {},
   "outputs": [],
   "source": [
    "alpha_pred = pred[0] * 180\n",
    "deltat_pred = pred[1] * 2"
   ]
  },
  {
   "cell_type": "code",
   "execution_count": null,
   "id": "d503da28",
   "metadata": {},
   "outputs": [],
   "source": [
    "def alpha(BAZ, phi):\n",
    "    if BAZ - phi >= 0 and BAZ - phi <= 180:\n",
    "        return BAZ - phi\n",
    "    elif BAZ - phi + 180 >= 0 and BAZ - phi + 180 <= 180:\n",
    "        return BAZ - phi + 180\n",
    "    elif BAZ - phi - 180 >= 0 and BAZ - phi - 180 <= 180:\n",
    "        return BAZ - phi - 180\n",
    "    else:\n",
    "        return BAZ - phi - 360"
   ]
  },
  {
   "cell_type": "code",
   "execution_count": null,
   "id": "9b5034df",
   "metadata": {},
   "outputs": [],
   "source": [
    "phi_pred = [alpha(B, p) for B, p in zip(BAZ, alpha_pred -180)]"
   ]
  }
 ],
 "metadata": {
  "kernelspec": {
   "display_name": "Python 3",
   "language": "python",
   "name": "python3"
  },
  "language_info": {
   "codemirror_mode": {
    "name": "ipython",
    "version": 3
   },
   "file_extension": ".py",
   "mimetype": "text/x-python",
   "name": "python",
   "nbconvert_exporter": "python",
   "pygments_lexer": "ipython3",
   "version": "3.11.0"
  }
 },
 "nbformat": 4,
 "nbformat_minor": 5
}
